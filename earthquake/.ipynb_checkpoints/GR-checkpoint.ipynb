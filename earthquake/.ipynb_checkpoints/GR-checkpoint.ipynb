{
 "cells": [
  {
   "cell_type": "code",
   "execution_count": 1,
   "metadata": {},
   "outputs": [
    {
     "data": {
      "text/html": [
       "<div>\n",
       "<style scoped>\n",
       "    .dataframe tbody tr th:only-of-type {\n",
       "        vertical-align: middle;\n",
       "    }\n",
       "\n",
       "    .dataframe tbody tr th {\n",
       "        vertical-align: top;\n",
       "    }\n",
       "\n",
       "    .dataframe thead th {\n",
       "        text-align: right;\n",
       "    }\n",
       "</style>\n",
       "<table border=\"1\" class=\"dataframe\">\n",
       "  <thead>\n",
       "    <tr style=\"text-align: right;\">\n",
       "      <th></th>\n",
       "      <th>time</th>\n",
       "      <th>latitude</th>\n",
       "      <th>longitude</th>\n",
       "      <th>depth</th>\n",
       "      <th>mag</th>\n",
       "      <th>magType</th>\n",
       "      <th>nst</th>\n",
       "      <th>gap</th>\n",
       "      <th>dmin</th>\n",
       "      <th>rms</th>\n",
       "      <th>...</th>\n",
       "      <th>updated</th>\n",
       "      <th>place</th>\n",
       "      <th>type</th>\n",
       "      <th>horizontalError</th>\n",
       "      <th>depthError</th>\n",
       "      <th>magError</th>\n",
       "      <th>magNst</th>\n",
       "      <th>status</th>\n",
       "      <th>locationSource</th>\n",
       "      <th>magSource</th>\n",
       "    </tr>\n",
       "  </thead>\n",
       "  <tbody>\n",
       "    <tr>\n",
       "      <th>0</th>\n",
       "      <td>2019-01-19T04:35:58.590Z</td>\n",
       "      <td>39.728800</td>\n",
       "      <td>-97.947500</td>\n",
       "      <td>10.00</td>\n",
       "      <td>2.60</td>\n",
       "      <td>mb_lg</td>\n",
       "      <td>NaN</td>\n",
       "      <td>78.0</td>\n",
       "      <td>1.21100</td>\n",
       "      <td>0.68</td>\n",
       "      <td>...</td>\n",
       "      <td>2019-01-19T05:28:37.040Z</td>\n",
       "      <td>23km ESE of Mankato, Kansas</td>\n",
       "      <td>earthquake</td>\n",
       "      <td>3.20</td>\n",
       "      <td>2.00</td>\n",
       "      <td>0.106</td>\n",
       "      <td>23.0</td>\n",
       "      <td>reviewed</td>\n",
       "      <td>us</td>\n",
       "      <td>us</td>\n",
       "    </tr>\n",
       "    <tr>\n",
       "      <th>1</th>\n",
       "      <td>2019-01-18T21:47:47.050Z</td>\n",
       "      <td>39.506200</td>\n",
       "      <td>-114.767500</td>\n",
       "      <td>1.00</td>\n",
       "      <td>2.70</td>\n",
       "      <td>ml</td>\n",
       "      <td>13.0</td>\n",
       "      <td>118.9</td>\n",
       "      <td>1.18900</td>\n",
       "      <td>0.14</td>\n",
       "      <td>...</td>\n",
       "      <td>2019-01-18T22:07:09.040Z</td>\n",
       "      <td>11km N of McGill, Nevada</td>\n",
       "      <td>earthquake</td>\n",
       "      <td>NaN</td>\n",
       "      <td>13.50</td>\n",
       "      <td>NaN</td>\n",
       "      <td>NaN</td>\n",
       "      <td>automatic</td>\n",
       "      <td>nn</td>\n",
       "      <td>nn</td>\n",
       "    </tr>\n",
       "    <tr>\n",
       "      <th>2</th>\n",
       "      <td>2019-01-18T16:07:51.510Z</td>\n",
       "      <td>37.503833</td>\n",
       "      <td>-113.841667</td>\n",
       "      <td>5.56</td>\n",
       "      <td>2.59</td>\n",
       "      <td>ml</td>\n",
       "      <td>14.0</td>\n",
       "      <td>71.0</td>\n",
       "      <td>0.04367</td>\n",
       "      <td>0.18</td>\n",
       "      <td>...</td>\n",
       "      <td>2019-01-18T18:47:19.040Z</td>\n",
       "      <td>13km SW of Enterprise, Utah</td>\n",
       "      <td>earthquake</td>\n",
       "      <td>0.62</td>\n",
       "      <td>0.85</td>\n",
       "      <td>0.142</td>\n",
       "      <td>5.0</td>\n",
       "      <td>reviewed</td>\n",
       "      <td>uu</td>\n",
       "      <td>uu</td>\n",
       "    </tr>\n",
       "    <tr>\n",
       "      <th>3</th>\n",
       "      <td>2019-01-18T15:17:29.360Z</td>\n",
       "      <td>35.316500</td>\n",
       "      <td>-97.981100</td>\n",
       "      <td>5.00</td>\n",
       "      <td>2.80</td>\n",
       "      <td>mb_lg</td>\n",
       "      <td>NaN</td>\n",
       "      <td>66.0</td>\n",
       "      <td>0.12500</td>\n",
       "      <td>1.05</td>\n",
       "      <td>...</td>\n",
       "      <td>2019-01-18T19:43:09.081Z</td>\n",
       "      <td>3km W of Minco, Oklahoma</td>\n",
       "      <td>earthquake</td>\n",
       "      <td>1.20</td>\n",
       "      <td>1.80</td>\n",
       "      <td>0.059</td>\n",
       "      <td>74.0</td>\n",
       "      <td>reviewed</td>\n",
       "      <td>us</td>\n",
       "      <td>us</td>\n",
       "    </tr>\n",
       "    <tr>\n",
       "      <th>4</th>\n",
       "      <td>2019-01-18T10:20:28.330Z</td>\n",
       "      <td>32.913800</td>\n",
       "      <td>-100.889900</td>\n",
       "      <td>5.00</td>\n",
       "      <td>2.80</td>\n",
       "      <td>ml</td>\n",
       "      <td>NaN</td>\n",
       "      <td>46.0</td>\n",
       "      <td>0.03500</td>\n",
       "      <td>0.64</td>\n",
       "      <td>...</td>\n",
       "      <td>2019-01-18T16:39:38.053Z</td>\n",
       "      <td>21km N of Snyder, Texas</td>\n",
       "      <td>earthquake</td>\n",
       "      <td>4.90</td>\n",
       "      <td>2.00</td>\n",
       "      <td>0.071</td>\n",
       "      <td>48.0</td>\n",
       "      <td>reviewed</td>\n",
       "      <td>us</td>\n",
       "      <td>us</td>\n",
       "    </tr>\n",
       "  </tbody>\n",
       "</table>\n",
       "<p>5 rows × 22 columns</p>\n",
       "</div>"
      ],
      "text/plain": [
       "                       time   latitude   longitude  depth   mag magType   nst  \\\n",
       "0  2019-01-19T04:35:58.590Z  39.728800  -97.947500  10.00  2.60   mb_lg   NaN   \n",
       "1  2019-01-18T21:47:47.050Z  39.506200 -114.767500   1.00  2.70      ml  13.0   \n",
       "2  2019-01-18T16:07:51.510Z  37.503833 -113.841667   5.56  2.59      ml  14.0   \n",
       "3  2019-01-18T15:17:29.360Z  35.316500  -97.981100   5.00  2.80   mb_lg   NaN   \n",
       "4  2019-01-18T10:20:28.330Z  32.913800 -100.889900   5.00  2.80      ml   NaN   \n",
       "\n",
       "     gap     dmin   rms    ...                      updated  \\\n",
       "0   78.0  1.21100  0.68    ...     2019-01-19T05:28:37.040Z   \n",
       "1  118.9  1.18900  0.14    ...     2019-01-18T22:07:09.040Z   \n",
       "2   71.0  0.04367  0.18    ...     2019-01-18T18:47:19.040Z   \n",
       "3   66.0  0.12500  1.05    ...     2019-01-18T19:43:09.081Z   \n",
       "4   46.0  0.03500  0.64    ...     2019-01-18T16:39:38.053Z   \n",
       "\n",
       "                         place        type horizontalError depthError  \\\n",
       "0  23km ESE of Mankato, Kansas  earthquake            3.20       2.00   \n",
       "1     11km N of McGill, Nevada  earthquake             NaN      13.50   \n",
       "2  13km SW of Enterprise, Utah  earthquake            0.62       0.85   \n",
       "3     3km W of Minco, Oklahoma  earthquake            1.20       1.80   \n",
       "4      21km N of Snyder, Texas  earthquake            4.90       2.00   \n",
       "\n",
       "   magError  magNst     status  locationSource magSource  \n",
       "0     0.106    23.0   reviewed              us        us  \n",
       "1       NaN     NaN  automatic              nn        nn  \n",
       "2     0.142     5.0   reviewed              uu        uu  \n",
       "3     0.059    74.0   reviewed              us        us  \n",
       "4     0.071    48.0   reviewed              us        us  \n",
       "\n",
       "[5 rows x 22 columns]"
      ]
     },
     "execution_count": 1,
     "metadata": {},
     "output_type": "execute_result"
    }
   ],
   "source": [
    "%matplotlib inline\n",
    "import pandas as pd\n",
    "import numpy as np\n",
    "import statsmodels.formula.api as sm\n",
    "\n",
    "df = pd.read_csv('query.csv')\n",
    "df.head()"
   ]
  },
  {
   "cell_type": "code",
   "execution_count": 2,
   "metadata": {},
   "outputs": [
    {
     "name": "stdout",
     "output_type": "stream",
     "text": [
      "<class 'pandas.core.frame.DataFrame'>\n",
      "RangeIndex: 31754 entries, 0 to 31753\n",
      "Data columns (total 22 columns):\n",
      "time               31754 non-null object\n",
      "latitude           31754 non-null float64\n",
      "longitude          31754 non-null float64\n",
      "depth              31754 non-null float64\n",
      "mag                31754 non-null float64\n",
      "magType            31754 non-null object\n",
      "nst                19545 non-null float64\n",
      "gap                30908 non-null float64\n",
      "dmin               21648 non-null float64\n",
      "rms                30827 non-null float64\n",
      "net                31754 non-null object\n",
      "id                 31754 non-null object\n",
      "updated            31754 non-null object\n",
      "place              31754 non-null object\n",
      "type               31754 non-null object\n",
      "horizontalError    26540 non-null float64\n",
      "depthError         30181 non-null float64\n",
      "magError           20831 non-null float64\n",
      "magNst             22207 non-null float64\n",
      "status             31754 non-null object\n",
      "locationSource     31754 non-null object\n",
      "magSource          31754 non-null object\n",
      "dtypes: float64(12), object(10)\n",
      "memory usage: 5.3+ MB\n"
     ]
    }
   ],
   "source": [
    "df.info()"
   ]
  },
  {
   "cell_type": "code",
   "execution_count": 3,
   "metadata": {},
   "outputs": [
    {
     "data": {
      "text/plain": [
       "ml       23332\n",
       "md        4560\n",
       "mb_lg     1190\n",
       "mw         778\n",
       "mwr        777\n",
       "mblg       381\n",
       "mb         276\n",
       "mh         134\n",
       "mlg        115\n",
       "mc          57\n",
       "Md          45\n",
       "mww         41\n",
       "mwc         34\n",
       "Ml          25\n",
       "mlr          5\n",
       "mwb          2\n",
       "m            1\n",
       "ms_20        1\n",
       "Name: magType, dtype: int64"
      ]
     },
     "execution_count": 3,
     "metadata": {},
     "output_type": "execute_result"
    }
   ],
   "source": [
    "df['magType'].value_counts()"
   ]
  },
  {
   "cell_type": "code",
   "execution_count": 4,
   "metadata": {},
   "outputs": [
    {
     "name": "stderr",
     "output_type": "stream",
     "text": [
      "/usr/local/anaconda3/lib/python3.7/site-packages/ipykernel_launcher.py:3: SettingWithCopyWarning: \n",
      "A value is trying to be set on a copy of a slice from a DataFrame.\n",
      "Try using .loc[row_indexer,col_indexer] = value instead\n",
      "\n",
      "See the caveats in the documentation: http://pandas.pydata.org/pandas-docs/stable/indexing.html#indexing-view-versus-copy\n",
      "  This is separate from the ipykernel package so we can avoid doing imports until\n"
     ]
    },
    {
     "data": {
      "text/plain": [
       "(2.5, 2.844]      10133\n",
       "(2.844, 3.189]     5922\n",
       "(3.189, 3.533]     3555\n",
       "(3.533, 3.878]      895\n",
       "(3.878, 4.222]      315\n",
       "(4.222, 4.567]       84\n",
       "(4.567, 4.911]       28\n",
       "(4.911, 5.256]        4\n",
       "(5.256, 5.6]          6\n",
       "Name: count, dtype: int64"
      ]
     },
     "execution_count": 4,
     "metadata": {},
     "output_type": "execute_result"
    }
   ],
   "source": [
    "df_ml = df.query('magType == \"ml\"')\n",
    "bins = np.linspace(2.5,df_ml['mag'].max(),10,endpoint=True)\n",
    "df_ml['count'] = pd.cut(df['mag'], bins)\n",
    "f = df_ml['count'].value_counts().sort_index()\n",
    "f"
   ]
  },
  {
   "cell_type": "code",
   "execution_count": 5,
   "metadata": {},
   "outputs": [],
   "source": [
    "midpoints = [(bins[i]+bins[i+1])/2.0 for i in range(len(bins)-1)]\n",
    "\n",
    "cumulant = [f[i:len(f)+1].sum() for i in range(len(f))]"
   ]
  },
  {
   "cell_type": "code",
   "execution_count": 6,
   "metadata": {},
   "outputs": [
    {
     "name": "stdout",
     "output_type": "stream",
     "text": [
      "                            OLS Regression Results                            \n",
      "==============================================================================\n",
      "Dep. Variable:                    log   R-squared:                       0.993\n",
      "Model:                            OLS   Adj. R-squared:                  0.992\n",
      "Method:                 Least Squares   F-statistic:                     986.3\n",
      "Date:                Sat, 19 Jan 2019   Prob (F-statistic):           8.57e-09\n",
      "Time:                        14:05:10   Log-Likelihood:                0.14307\n",
      "No. Observations:                   9   AIC:                             3.714\n",
      "Df Residuals:                       7   BIC:                             4.108\n",
      "Df Model:                           1                                         \n",
      "Covariance Type:            nonrobust                                         \n",
      "==============================================================================\n",
      "                 coef    std err          t      P>|t|      [0.025      0.975]\n",
      "------------------------------------------------------------------------------\n",
      "Intercept     18.8226      0.420     44.850      0.000      17.830      19.815\n",
      "mag           -3.1786      0.101    -31.405      0.000      -3.418      -2.939\n",
      "==============================================================================\n",
      "Omnibus:                        0.609   Durbin-Watson:                   1.484\n",
      "Prob(Omnibus):                  0.738   Jarque-Bera (JB):                0.572\n",
      "Skew:                          -0.347   Prob(JB):                        0.751\n",
      "Kurtosis:                       1.978   Cond. No.                         20.4\n",
      "==============================================================================\n",
      "\n",
      "Warnings:\n",
      "[1] Standard Errors assume that the covariance matrix of the errors is correctly specified.\n"
     ]
    },
    {
     "name": "stderr",
     "output_type": "stream",
     "text": [
      "/usr/local/anaconda3/lib/python3.7/site-packages/scipy/stats/stats.py:1394: UserWarning: kurtosistest only valid for n>=20 ... continuing anyway, n=9\n",
      "  \"anyway, n=%i\" % int(n))\n"
     ]
    },
    {
     "data": {
      "image/png": "[encoded data removed]",
      "text/plain": [
       "<Figure size 432x288 with 1 Axes>"
      ]
     },
     "metadata": {
      "needs_background": "light"
     },
     "output_type": "display_data"
    }
   ],
   "source": [
    "# df.groupby('count').count()\n",
    "\n",
    "g = f.to_frame()\n",
    "\n",
    "g['log']  = np.log(np.array(cumulant))\n",
    "# g.info()\n",
    "\n",
    "import matplotlib.pyplot as plt\n",
    "# g.plot(kind = 'bar')\n",
    "# g['log'].plot(kind='scatter')\n",
    "\n",
    "\n",
    "g['mag'] = midpoints\n",
    "\n",
    "g.plot(x = 'mag', y = 'log', kind='scatter')\n",
    "\n",
    "result = sm.ols(formula=\"log ~ mag\", data=g).fit()\n",
    "print(result.summary())"
   ]
  },
  {
   "cell_type": "code",
   "execution_count": null,
   "metadata": {},
   "outputs": [],
   "source": []
  }
 ],
 "metadata": {
  "kernelspec": {
   "display_name": "Python 3",
   "language": "python",
   "name": "python3"
  },
  "language_info": {
   "codemirror_mode": {
    "name": "ipython",
    "version": 3
   },
   "file_extension": ".py",
   "mimetype": "text/x-python",
   "name": "python",
   "nbconvert_exporter": "python",
   "pygments_lexer": "ipython3",
   "version": "3.7.0"
  }
 },
 "nbformat": 4,
 "nbformat_minor": 2
}
