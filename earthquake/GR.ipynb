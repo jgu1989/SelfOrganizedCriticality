{
 "cells": [
  {
   "cell_type": "code",
   "execution_count": 1,
   "metadata": {},
   "outputs": [
    {
     "name": "stdout",
     "output_type": "stream",
     "text": [
      "                            OLS Regression Results                            \n",
      "==============================================================================\n",
      "Dep. Variable:                    log   R-squared:                       0.992\n",
      "Model:                            OLS   Adj. R-squared:                  0.991\n",
      "Method:                 Least Squares   F-statistic:                     909.0\n",
      "Date:                Sat, 19 Jan 2019   Prob (F-statistic):           1.14e-08\n",
      "Time:                        11:47:13   Log-Likelihood:               -0.55278\n",
      "No. Observations:                   9   AIC:                             5.106\n",
      "Df Residuals:                       7   BIC:                             5.500\n",
      "Df Model:                           1                                         \n",
      "Covariance Type:            nonrobust                                         \n",
      "==============================================================================\n",
      "                 coef    std err          t      P>|t|      [0.025      0.975]\n",
      "------------------------------------------------------------------------------\n",
      "Intercept      9.2605      0.179     51.643      0.000       8.837       9.685\n",
      "mag           -0.9084      0.030    -30.149      0.000      -0.980      -0.837\n",
      "==============================================================================\n",
      "Omnibus:                        2.313   Durbin-Watson:                   1.450\n",
      "Prob(Omnibus):                  0.315   Jarque-Bera (JB):                1.322\n",
      "Skew:                           0.888   Prob(JB):                        0.516\n",
      "Kurtosis:                       2.389   Cond. No.                         11.2\n",
      "==============================================================================\n",
      "\n",
      "Warnings:\n",
      "[1] Standard Errors assume that the covariance matrix of the errors is correctly specified.\n"
     ]
    },
    {
     "name": "stderr",
     "output_type": "stream",
     "text": [
      "/usr/local/anaconda3/lib/python3.7/site-packages/scipy/stats/stats.py:1394: UserWarning: kurtosistest only valid for n>=20 ... continuing anyway, n=9\n",
      "  \"anyway, n=%i\" % int(n))\n"
     ]
    },
    {
     "data": {
      "image/png": "[encoded data removed]",
      "text/plain": [
       "<Figure size 432x288 with 1 Axes>"
      ]
     },
     "metadata": {
      "needs_background": "light"
     },
     "output_type": "display_data"
    }
   ],
   "source": [
    "%matplotlib inline\n",
    "import pandas as pd\n",
    "import numpy as np\n",
    "import statsmodels.formula.api as sm\n",
    "\n",
    "df = pd.read_csv('query.csv')\n",
    "# df.query('magType == \"ml\"').mag.hist(bins = 30)\n",
    "\n",
    "\n",
    "df['count'] = pd.cut(df['mag'], np.linspace(2.5,df['mag'].max(),10))\n",
    "f = df['count'].value_counts()\n",
    "# df.groupby('count').count()\n",
    "\n",
    "g = f.to_frame()\n",
    "\n",
    "g['log']  = np.log(g['count'])\n",
    "# g.info()\n",
    "\n",
    "import matplotlib.pyplot as plt\n",
    "# g.plot(kind = 'bar')\n",
    "# g['log'].plot(kind='scatter')\n",
    "\n",
    "\n",
    "g['mag'] = np.linspace(0,10, g.shape[0])\n",
    "\n",
    "g.plot(x = 'mag', y = 'log', kind='scatter')\n",
    "\n",
    "result = sm.ols(formula=\"log ~ mag\", data=g).fit()\n",
    "print(result.summary())"
   ]
  },
  {
   "cell_type": "code",
   "execution_count": null,
   "metadata": {},
   "outputs": [],
   "source": []
  }
 ],
 "metadata": {
  "kernelspec": {
   "display_name": "Python 3",
   "language": "python",
   "name": "python3"
  },
  "language_info": {
   "codemirror_mode": {
    "name": "ipython",
    "version": 3
   },
   "file_extension": ".py",
   "mimetype": "text/x-python",
   "name": "python",
   "nbconvert_exporter": "python",
   "pygments_lexer": "ipython3",
   "version": "3.7.0"
  }
 },
 "nbformat": 4,
 "nbformat_minor": 2
}
